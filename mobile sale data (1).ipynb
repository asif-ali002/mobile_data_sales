{
 "cells": [
  {
   "cell_type": "code",
   "execution_count": 36,
   "id": "2bd596fa-1c37-4e9d-a0fb-665b9915be4b",
   "metadata": {},
   "outputs": [],
   "source": [
    "import pandas as pd\n",
    "import numpy as np\n",
    "import seaborn as sns\n",
    "import matplotlib.pyplot as plt\n"
   ]
  },
  {
   "cell_type": "code",
   "execution_count": 3,
   "id": "666c6104-cedf-4a31-be26-4807f832388c",
   "metadata": {},
   "outputs": [
    {
     "data": {
      "text/html": [
       "<div>\n",
       "<style scoped>\n",
       "    .dataframe tbody tr th:only-of-type {\n",
       "        vertical-align: middle;\n",
       "    }\n",
       "\n",
       "    .dataframe tbody tr th {\n",
       "        vertical-align: top;\n",
       "    }\n",
       "\n",
       "    .dataframe thead th {\n",
       "        text-align: right;\n",
       "    }\n",
       "</style>\n",
       "<table border=\"1\" class=\"dataframe\">\n",
       "  <thead>\n",
       "    <tr style=\"text-align: right;\">\n",
       "      <th></th>\n",
       "      <th>Product</th>\n",
       "      <th>Brand</th>\n",
       "      <th>Product Code</th>\n",
       "      <th>Product Specification</th>\n",
       "      <th>Price</th>\n",
       "      <th>Inward Date</th>\n",
       "      <th>Dispatch Date</th>\n",
       "      <th>Quantity Sold</th>\n",
       "      <th>Customer Name</th>\n",
       "      <th>Customer Location</th>\n",
       "      <th>Region</th>\n",
       "      <th>Core Specification</th>\n",
       "      <th>Processor Specification</th>\n",
       "      <th>RAM</th>\n",
       "      <th>ROM</th>\n",
       "      <th>SSD</th>\n",
       "    </tr>\n",
       "  </thead>\n",
       "  <tbody>\n",
       "    <tr>\n",
       "      <th>0</th>\n",
       "      <td>Mobile Phone</td>\n",
       "      <td>Motorola</td>\n",
       "      <td>88EB4558</td>\n",
       "      <td>Site candidate activity company there bit insi...</td>\n",
       "      <td>78570</td>\n",
       "      <td>2023-08-02</td>\n",
       "      <td>2023-08-03</td>\n",
       "      <td>6</td>\n",
       "      <td>William Hess</td>\n",
       "      <td>South Kelsey</td>\n",
       "      <td>Central</td>\n",
       "      <td>NaN</td>\n",
       "      <td>Snapdragon 7 Gen</td>\n",
       "      <td>12GB</td>\n",
       "      <td>128GB</td>\n",
       "      <td>NaN</td>\n",
       "    </tr>\n",
       "    <tr>\n",
       "      <th>1</th>\n",
       "      <td>Laptop</td>\n",
       "      <td>Oppo</td>\n",
       "      <td>416DFEEB</td>\n",
       "      <td>Beat put care fight affect address his.</td>\n",
       "      <td>44613</td>\n",
       "      <td>2023-10-03</td>\n",
       "      <td>2023-10-06</td>\n",
       "      <td>1</td>\n",
       "      <td>Larry Smith</td>\n",
       "      <td>North Lisa</td>\n",
       "      <td>South</td>\n",
       "      <td>Ryzen 5</td>\n",
       "      <td>Ryzen 5</td>\n",
       "      <td>8GB</td>\n",
       "      <td>512GB</td>\n",
       "      <td>256GB</td>\n",
       "    </tr>\n",
       "    <tr>\n",
       "      <th>2</th>\n",
       "      <td>Mobile Phone</td>\n",
       "      <td>Samsung</td>\n",
       "      <td>9F975B08</td>\n",
       "      <td>Energy special low seven place audience.</td>\n",
       "      <td>159826</td>\n",
       "      <td>2025-03-19</td>\n",
       "      <td>2025-03-20</td>\n",
       "      <td>5</td>\n",
       "      <td>Leah Copeland</td>\n",
       "      <td>South Todd</td>\n",
       "      <td>Central</td>\n",
       "      <td>NaN</td>\n",
       "      <td>MediaTek Dimensity</td>\n",
       "      <td>8GB</td>\n",
       "      <td>256GB</td>\n",
       "      <td>NaN</td>\n",
       "    </tr>\n",
       "    <tr>\n",
       "      <th>3</th>\n",
       "      <td>Laptop</td>\n",
       "      <td>Sony</td>\n",
       "      <td>73D2A7CC</td>\n",
       "      <td>Friend record hard contain minute we role sea ...</td>\n",
       "      <td>20911</td>\n",
       "      <td>2024-02-06</td>\n",
       "      <td>2024-03-27</td>\n",
       "      <td>1</td>\n",
       "      <td>Dan Kirby</td>\n",
       "      <td>New Jordanmouth</td>\n",
       "      <td>South</td>\n",
       "      <td>i7</td>\n",
       "      <td>i7</td>\n",
       "      <td>12GB</td>\n",
       "      <td>64GB</td>\n",
       "      <td>2TB</td>\n",
       "    </tr>\n",
       "    <tr>\n",
       "      <th>4</th>\n",
       "      <td>Laptop</td>\n",
       "      <td>Microsoft</td>\n",
       "      <td>CCE0B80D</td>\n",
       "      <td>Program recently feeling save tree hotel people.</td>\n",
       "      <td>69832</td>\n",
       "      <td>2023-08-10</td>\n",
       "      <td>2023-09-10</td>\n",
       "      <td>4</td>\n",
       "      <td>Dean Martin</td>\n",
       "      <td>Keithton</td>\n",
       "      <td>East</td>\n",
       "      <td>i7</td>\n",
       "      <td>i7</td>\n",
       "      <td>8GB</td>\n",
       "      <td>128GB</td>\n",
       "      <td>2TB</td>\n",
       "    </tr>\n",
       "  </tbody>\n",
       "</table>\n",
       "</div>"
      ],
      "text/plain": [
       "        Product      Brand Product Code  \\\n",
       "0  Mobile Phone   Motorola     88EB4558   \n",
       "1        Laptop       Oppo     416DFEEB   \n",
       "2  Mobile Phone    Samsung     9F975B08   \n",
       "3        Laptop       Sony     73D2A7CC   \n",
       "4        Laptop  Microsoft     CCE0B80D   \n",
       "\n",
       "                               Product Specification   Price Inward Date  \\\n",
       "0  Site candidate activity company there bit insi...   78570  2023-08-02   \n",
       "1            Beat put care fight affect address his.   44613  2023-10-03   \n",
       "2           Energy special low seven place audience.  159826  2025-03-19   \n",
       "3  Friend record hard contain minute we role sea ...   20911  2024-02-06   \n",
       "4   Program recently feeling save tree hotel people.   69832  2023-08-10   \n",
       "\n",
       "  Dispatch Date  Quantity Sold  Customer Name Customer Location   Region  \\\n",
       "0    2023-08-03              6   William Hess      South Kelsey  Central   \n",
       "1    2023-10-06              1    Larry Smith        North Lisa    South   \n",
       "2    2025-03-20              5  Leah Copeland        South Todd  Central   \n",
       "3    2024-03-27              1      Dan Kirby   New Jordanmouth    South   \n",
       "4    2023-09-10              4    Dean Martin          Keithton     East   \n",
       "\n",
       "  Core Specification Processor Specification   RAM    ROM    SSD  \n",
       "0                NaN        Snapdragon 7 Gen  12GB  128GB    NaN  \n",
       "1            Ryzen 5                 Ryzen 5   8GB  512GB  256GB  \n",
       "2                NaN      MediaTek Dimensity   8GB  256GB    NaN  \n",
       "3                 i7                      i7  12GB   64GB    2TB  \n",
       "4                 i7                      i7   8GB  128GB    2TB  "
      ]
     },
     "execution_count": 3,
     "metadata": {},
     "output_type": "execute_result"
    }
   ],
   "source": [
    "df = pd.read_csv(\"mobile_sales_data.csv\")\n",
    "df.head()"
   ]
  },
  {
   "cell_type": "code",
   "execution_count": 20,
   "id": "35f42f8b-13bb-4a15-b035-7b88739e3289",
   "metadata": {},
   "outputs": [
    {
     "name": "stdout",
     "output_type": "stream",
     "text": [
      "<class 'pandas.core.frame.DataFrame'>\n",
      "RangeIndex: 50000 entries, 0 to 49999\n",
      "Data columns (total 16 columns):\n",
      " #   Column                   Non-Null Count  Dtype \n",
      "---  ------                   --------------  ----- \n",
      " 0   Product                  50000 non-null  object\n",
      " 1   Brand                    50000 non-null  object\n",
      " 2   Product Code             50000 non-null  object\n",
      " 3   Product Specification    50000 non-null  object\n",
      " 4   Price                    50000 non-null  int64 \n",
      " 5   Inward Date              50000 non-null  object\n",
      " 6   Dispatch Date            50000 non-null  object\n",
      " 7   Quantity Sold            50000 non-null  int64 \n",
      " 8   Customer Name            50000 non-null  object\n",
      " 9   Customer Location        50000 non-null  object\n",
      " 10  Region                   50000 non-null  object\n",
      " 11  Core Specification       25017 non-null  object\n",
      " 12  Processor Specification  50000 non-null  object\n",
      " 13  RAM                      50000 non-null  object\n",
      " 14  ROM                      50000 non-null  object\n",
      " 15  SSD                      25017 non-null  object\n",
      "dtypes: int64(2), object(14)\n",
      "memory usage: 6.1+ MB\n",
      "<class 'pandas.core.frame.DataFrame'>\n",
      "RangeIndex: 50000 entries, 0 to 49999\n",
      "Data columns (total 16 columns):\n",
      " #   Column                   Non-Null Count  Dtype \n",
      "---  ------                   --------------  ----- \n",
      " 0   Product                  50000 non-null  object\n",
      " 1   Brand                    50000 non-null  object\n",
      " 2   Product Code             50000 non-null  object\n",
      " 3   Product Specification    50000 non-null  object\n",
      " 4   Price                    50000 non-null  int64 \n",
      " 5   Inward Date              50000 non-null  object\n",
      " 6   Dispatch Date            50000 non-null  object\n",
      " 7   Quantity Sold            50000 non-null  int64 \n",
      " 8   Customer Name            50000 non-null  object\n",
      " 9   Customer Location        50000 non-null  object\n",
      " 10  Region                   50000 non-null  object\n",
      " 11  Core Specification       25017 non-null  object\n",
      " 12  Processor Specification  50000 non-null  object\n",
      " 13  RAM                      50000 non-null  object\n",
      " 14  ROM                      50000 non-null  object\n",
      " 15  SSD                      25017 non-null  object\n",
      "dtypes: int64(2), object(14)\n",
      "memory usage: 6.1+ MB\n"
     ]
    }
   ],
   "source": [
    "df.info()\n",
    "df.describe()\n",
    "df.shape\n",
    "df.info()"
   ]
  },
  {
   "cell_type": "code",
   "execution_count": 21,
   "id": "0c77d1bc-d736-439b-9f1b-67624a812240",
   "metadata": {},
   "outputs": [
    {
     "name": "stdout",
     "output_type": "stream",
     "text": [
      "Product                        0\n",
      "Brand                          0\n",
      "Product Code                   0\n",
      "Product Specification          0\n",
      "Price                          0\n",
      "Inward Date                    0\n",
      "Dispatch Date                  0\n",
      "Quantity Sold                  0\n",
      "Customer Name                  0\n",
      "Customer Location              0\n",
      "Region                         0\n",
      "Core Specification         24983\n",
      "Processor Specification        0\n",
      "RAM                            0\n",
      "ROM                            0\n",
      "SSD                        24983\n",
      "dtype: int64\n"
     ]
    }
   ],
   "source": [
    "print(df.isnull().sum())"
   ]
  },
  {
   "cell_type": "code",
   "execution_count": 22,
   "id": "f47ebfb4-f79b-491b-be78-57fa8c925f28",
   "metadata": {},
   "outputs": [],
   "source": [
    "df.fillna(df.mean(numeric_only=True), inplace=True)"
   ]
  },
  {
   "cell_type": "code",
   "execution_count": 23,
   "id": "27c48bd4-f0c1-4ffd-b117-3b08723f9564",
   "metadata": {},
   "outputs": [],
   "source": [
    "df.drop_duplicates(inplace=True)"
   ]
  },
  {
   "cell_type": "code",
   "execution_count": 24,
   "id": "47b0847b-6fbb-4d5e-ba6d-310a0d392033",
   "metadata": {},
   "outputs": [
    {
     "name": "stderr",
     "output_type": "stream",
     "text": [
      "C:\\Users\\aa122\\AppData\\Local\\Temp\\ipykernel_19100\\3448830320.py:2: FutureWarning: A value is trying to be set on a copy of a DataFrame or Series through chained assignment using an inplace method.\n",
      "The behavior will change in pandas 3.0. This inplace method will never work because the intermediate object on which we are setting values always behaves as a copy.\n",
      "\n",
      "For example, when doing 'df[col].method(value, inplace=True)', try using 'df.method({col: value}, inplace=True)' or df[col] = df[col].method(value) instead, to perform the operation inplace on the original object.\n",
      "\n",
      "\n",
      "  df[col].fillna(df[col].mode()[0], inplace=True)\n"
     ]
    }
   ],
   "source": [
    "for col in df.select_dtypes(include='object').columns:\n",
    "    df[col].fillna(df[col].mode()[0], inplace=True)"
   ]
  },
  {
   "cell_type": "code",
   "execution_count": 25,
   "id": "f2627cdb-211f-4fe9-bc8b-19cae89194f3",
   "metadata": {},
   "outputs": [],
   "source": [
    "if 'date' in df.columns:\n",
    "    df['date'] = pd.to_datetime(df['date'])"
   ]
  },
  {
   "cell_type": "code",
   "execution_count": 26,
   "id": "b59a054d-a165-495a-97b3-14ada92045f2",
   "metadata": {},
   "outputs": [],
   "source": [
    "if 'date' in df.columns:\n",
    "    df['year'] = df['date'].dt.year"
   ]
  },
  {
   "cell_type": "code",
   "execution_count": 27,
   "id": "b9360bcf-dc43-4a0d-be33-f49f6d3fe3a7",
   "metadata": {},
   "outputs": [],
   "source": [
    "for col in df.select_dtypes(include='object').columns:\n",
    "    df[col] = df[col].str.lower()"
   ]
  },
  {
   "cell_type": "code",
   "execution_count": 28,
   "id": "eb6e6940-a66d-4198-bec3-9afc779951b3",
   "metadata": {},
   "outputs": [
    {
     "name": "stdout",
     "output_type": "stream",
     "text": [
      "                 Price  Quantity Sold\n",
      "Price          1.00000       -0.00222\n",
      "Quantity Sold -0.00222        1.00000\n"
     ]
    }
   ],
   "source": [
    "print(df.corr(numeric_only=True))"
   ]
  },
  {
   "cell_type": "code",
   "execution_count": 29,
   "id": "6190abae-e786-4cb8-b493-9b898077b328",
   "metadata": {},
   "outputs": [],
   "source": [
    "if 'category' in df.columns:\n",
    "    print(df['category'].value_counts())"
   ]
  },
  {
   "cell_type": "code",
   "execution_count": 39,
   "id": "54e79b0c-968e-487d-8e14-c141e0a80106",
   "metadata": {},
   "outputs": [
    {
     "data": {
      "image/png": "[encoded data removed]",
      "text/plain": [
       "<Figure size 1000x600 with 2 Axes>"
      ]
     },
     "metadata": {},
     "output_type": "display_data"
    }
   ],
   "source": [
    "# Histogram for numeric column\n",
    "df.hist(figsize=(10, 6))\n",
    "plt.show()\n",
    "\n",
    "\n"
   ]
  },
  {
   "cell_type": "code",
   "execution_count": 37,
   "id": "66c2a35c-41a5-44f6-b217-6aa9ea93d2a8",
   "metadata": {},
   "outputs": [
    {
     "data": {
      "image/png": "[encoded data removed]",
      "text/plain": [
       "<Figure size 640x480 with 1 Axes>"
      ]
     },
     "metadata": {},
     "output_type": "display_data"
    }
   ],
   "source": [
    "sns.boxplot(x=df.select_dtypes(include='number').columns[0], data=df)\n",
    "plt.show()\n"
   ]
  },
  {
   "cell_type": "code",
   "execution_count": 38,
   "id": "ddecb3e6-2072-49b4-8aca-8800c2ac7cba",
   "metadata": {},
   "outputs": [
    {
     "data": {
      "image/png": "[encoded data removed]",
      "text/plain": [
       "<Figure size 640x480 with 2 Axes>"
      ]
     },
     "metadata": {},
     "output_type": "display_data"
    }
   ],
   "source": [
    "sns.heatmap(df.corr(numeric_only=True), annot=True, cmap=\"coolwarm\")\n",
    "plt.show()\n",
    "\n"
   ]
  },
  {
   "cell_type": "code",
   "execution_count": 40,
   "id": "78a51887-8ef8-4b82-91ce-7fb21266dcb6",
   "metadata": {},
   "outputs": [
    {
     "name": "stdout",
     "output_type": "stream",
     "text": [
      "                 Price  Quantity Sold\n",
      "Price          1.00000       -0.00222\n",
      "Quantity Sold -0.00222        1.00000\n"
     ]
    }
   ],
   "source": [
    "# Correlation matrix\n",
    "print(df.corr(numeric_only=True))\n",
    "\n",
    "# Value counts for categorical column\n",
    "if 'category' in df.columns:\n",
    "    print(df['category'].value_counts())\n"
   ]
  },
  {
   "cell_type": "code",
   "execution_count": 44,
   "id": "b023a536-cc7c-4e17-a358-cf42d0d6f556",
   "metadata": {},
   "outputs": [
    {
     "data": {
      "image/png": "[encoded data removed]",
      "text/plain": [
       "<Figure size 1000x600 with 2 Axes>"
      ]
     },
     "metadata": {},
     "output_type": "display_data"
    }
   ],
   "source": [
    "# Histogram for numeric column\n",
    "df.hist(figsize=(10, 6))\n",
    "plt.show()\n",
    "\n"
   ]
  },
  {
   "cell_type": "code",
   "execution_count": 42,
   "id": "127feaeb-a54e-4af6-9bb6-5816b3f2ce70",
   "metadata": {},
   "outputs": [
    {
     "data": {
      "image/png": "[encoded data removed]",
      "text/plain": [
       "<Figure size 640x480 with 1 Axes>"
      ]
     },
     "metadata": {},
     "output_type": "display_data"
    }
   ],
   "source": [
    "# Boxplot for outlier detection\n",
    "sns.boxplot(x=df.select_dtypes(include='number').columns[0], data=df)\n",
    "plt.show()"
   ]
  },
  {
   "cell_type": "code",
   "execution_count": 43,
   "id": "1a577b52-3d87-408a-9628-68a6d48b5de9",
   "metadata": {},
   "outputs": [
    {
     "data": {
      "image/png": "[encoded data removed]",
      "text/plain": [
       "<Figure size 640x480 with 2 Axes>"
      ]
     },
     "metadata": {},
     "output_type": "display_data"
    }
   ],
   "source": [
    "# Heatmap for correlations\n",
    "sns.heatmap(df.corr(numeric_only=True), annot=True, cmap=\"coolwarm\")\n",
    "plt.show()"
   ]
  },
  {
   "cell_type": "code",
   "execution_count": 47,
   "id": "b154a441-0e31-48af-b87d-feb6b0011acc",
   "metadata": {},
   "outputs": [
    {
     "name": "stdout",
     "output_type": "stream",
     "text": [
      "Index(['Price', 'Quantity Sold', 'Product_mobile phone', 'Brand_apple',\n",
      "       'Brand_asus', 'Brand_dell', 'Brand_google', 'Brand_hp', 'Brand_huawei',\n",
      "       'Brand_iqoo',\n",
      "       ...\n",
      "       'RAM_4gb', 'RAM_6gb', 'RAM_8gb', 'ROM_1tb', 'ROM_256gb', 'ROM_512gb',\n",
      "       'ROM_64gb', 'SSD_256gb', 'SSD_2tb', 'SSD_512gb'],\n",
      "      dtype='object', length=166732)\n"
     ]
    }
   ],
   "source": [
    "print(df.columns)\n"
   ]
  },
  {
   "cell_type": "code",
   "execution_count": null,
   "id": "1f8435a6-eed8-4708-b114-f437e4ceda69",
   "metadata": {},
   "outputs": [],
   "source": []
  }
 ],
 "metadata": {
  "kernelspec": {
   "display_name": "Python 3 (ipykernel)",
   "language": "python",
   "name": "python3"
  },
  "language_info": {
   "codemirror_mode": {
    "name": "ipython",
    "version": 3
   },
   "file_extension": ".py",
   "mimetype": "text/x-python",
   "name": "python",
   "nbconvert_exporter": "python",
   "pygments_lexer": "ipython3",
   "version": "3.13.5"
  }
 },
 "nbformat": 4,
 "nbformat_minor": 5
}
